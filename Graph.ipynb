{
 "cells": [
  {
   "cell_type": "markdown",
   "metadata": {},
   "source": [
    "### Graphs"
   ]
  },
  {
   "cell_type": "code",
   "execution_count": 204,
   "metadata": {},
   "outputs": [],
   "source": [
    "from collections import defaultdict\n",
    "class Graph:\n",
    "    def __init__(self,edges,Directed=True):\n",
    "        self.edges=edges\n",
    "        self.graph_dict=defaultdict(list)\n",
    "        for start,end in self.edges:\n",
    "            self.graph_dict[start].append(end)\n",
    "            if(not Directed):\n",
    "                self.graph_dict[end].append(start)\n",
    "        print(self.graph_dict)\n",
    "    def get_paths(self,start,end,path=[]):\n",
    "        path=path+[start]\n",
    "        if(start==end):\n",
    "            return [path]\n",
    "        paths=[]\n",
    "        if(start not in self.graph_dict):\n",
    "            return []\n",
    "        for node in self.graph_dict[start]:\n",
    "            if(node not in path):\n",
    "                new_paths=self.get_paths(node,end,path) \n",
    "                for p in new_paths:\n",
    "                    paths.append(p)\n",
    "        return paths\n",
    "    def get_shortest_path(self, start, end, path=[]):\n",
    "        path = path + [start]\n",
    "\n",
    "        if start == end:\n",
    "            return path\n",
    "\n",
    "        if start not in self.graph_dict:\n",
    "            return None\n",
    "\n",
    "        shortest_path = None\n",
    "        for node in self.graph_dict[start]:\n",
    "            if node not in path:\n",
    "                sp = self.get_shortest_path(node, end, path)\n",
    "                if sp:\n",
    "                    if shortest_path is None or len(sp) < len(shortest_path):\n",
    "                        shortest_path = sp\n",
    "\n",
    "        return shortest_path\n",
    "    def BFS(self, node):\n",
    "        visited=[]\n",
    "        queue=[]\n",
    "        visited.append(node)\n",
    "        queue.append(node)\n",
    "        while queue:\n",
    "            s=queue.pop(0)\n",
    "            print(s,end=\" \")\n",
    "            for neighbor in self.graph_dict[s]:\n",
    "                if neighbor not in visited:\n",
    "                    visited.append(neighbor)\n",
    "                    queue.append(neighbor)\n",
    "    def DFS(self,node,visited):\n",
    "        visited.add(node)\n",
    "        print(node,end=\" \")\n",
    "        for neighbor in self.graph_dict[node]:\n",
    "            if (neighbor not in visited):\n",
    "                self.DFS(neighbor,visited)"
   ]
  },
  {
   "cell_type": "code",
   "execution_count": 205,
   "metadata": {},
   "outputs": [
    {
     "name": "stdout",
     "output_type": "stream",
     "text": [
      "defaultdict(<class 'list'>, {'Mumbai': ['Paris', 'Dubai'], 'Paris': ['Dubai', 'New York'], 'Dubai': ['New York'], 'New York': ['Toronto']})\n",
      "[['Mumbai', 'Paris', 'Dubai', 'New York'], ['Mumbai', 'Paris', 'New York'], ['Mumbai', 'Dubai', 'New York']]\n",
      "['Mumbai', 'Paris', 'New York']\n",
      "Bfs :  Paris Dubai New York Toronto "
     ]
    }
   ],
   "source": [
    " routes = [\n",
    "        (\"Mumbai\", \"Paris\"),\n",
    "        (\"Mumbai\", \"Dubai\"),\n",
    "        (\"Paris\", \"Dubai\"),\n",
    "        (\"Paris\", \"New York\"),\n",
    "        (\"Dubai\", \"New York\"),\n",
    "        (\"New York\", \"Toronto\"),\n",
    "    ]\n",
    "\n",
    "graph_1=Graph(routes)\n",
    "print(graph_1.get_paths('Mumbai','New York'))\n",
    "print(graph_1.get_shortest_path('Mumbai','New York'))\n",
    "print(\"Bfs : \",end=\" \")\n",
    "graph_1.BFS('Paris')"
   ]
  },
  {
   "cell_type": "code",
   "execution_count": 206,
   "metadata": {},
   "outputs": [
    {
     "name": "stdout",
     "output_type": "stream",
     "text": [
      "Paris Dubai New York Toronto "
     ]
    }
   ],
   "source": [
    "visited=set()\n",
    "graph_1.DFS('Paris',visited)"
   ]
  },
  {
   "cell_type": "code",
   "execution_count": 207,
   "metadata": {},
   "outputs": [
    {
     "name": "stdout",
     "output_type": "stream",
     "text": [
      "defaultdict(<class 'list'>, {'Mumbai': ['Paris', 'Dubai'], 'Paris': ['Mumbai', 'Dubai', 'New York'], 'Dubai': ['Mumbai', 'Paris', 'New York'], 'New York': ['Paris', 'Dubai', 'Toronto'], 'Toronto': ['New York']})\n"
     ]
    }
   ],
   "source": [
    "routes = [\n",
    "        (\"Mumbai\", \"Paris\"),\n",
    "        (\"Mumbai\", \"Dubai\"),\n",
    "        (\"Paris\", \"Dubai\"),\n",
    "        (\"Paris\", \"New York\"),\n",
    "        (\"Dubai\", \"New York\"),\n",
    "        (\"New York\", \"Toronto\"),\n",
    "    ]\n",
    "graph_2=Graph(routes,Directed=False)"
   ]
  },
  {
   "cell_type": "code",
   "execution_count": 208,
   "metadata": {},
   "outputs": [
    {
     "name": "stdout",
     "output_type": "stream",
     "text": [
      "Paris Mumbai Dubai New York Toronto "
     ]
    }
   ],
   "source": [
    "graph_2.BFS('Paris')"
   ]
  },
  {
   "cell_type": "code",
   "execution_count": 211,
   "metadata": {},
   "outputs": [
    {
     "name": "stdout",
     "output_type": "stream",
     "text": [
      "Mumbai Paris Dubai New York Toronto "
     ]
    }
   ],
   "source": [
    "visited=set()\n",
    "graph_2.DFS('Mumbai',visited)"
   ]
  }
 ],
 "metadata": {
  "kernelspec": {
   "display_name": "Python 3",
   "language": "python",
   "name": "python3"
  },
  "language_info": {
   "codemirror_mode": {
    "name": "ipython",
    "version": 3
   },
   "file_extension": ".py",
   "mimetype": "text/x-python",
   "name": "python",
   "nbconvert_exporter": "python",
   "pygments_lexer": "ipython3",
   "version": "3.8.0"
  }
 },
 "nbformat": 4,
 "nbformat_minor": 4
}
