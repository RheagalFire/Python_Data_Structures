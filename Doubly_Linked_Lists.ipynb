{
 "cells": [
  {
   "cell_type": "markdown",
   "metadata": {},
   "source": [
    "### Doubly Linked Lists"
   ]
  },
  {
   "cell_type": "markdown",
   "metadata": {},
   "source": [
    "- They are linked lists with bidirectinal traversal access.\n",
    "- Most of the techniques of DLL remain same as Singly Linked Lists"
   ]
  },
  {
   "cell_type": "code",
   "execution_count": 19,
   "metadata": {},
   "outputs": [],
   "source": [
    "class Node:\n",
    "    def __init__(self,data=None,next=None,prev=None):\n",
    "        self.data=data\n",
    "        self.next=next\n",
    "        self.prev=prev\n",
    "class DLL():\n",
    "    def __init__(self):\n",
    "        self.head=None\n",
    "    def insert_at_head(self,data):\n",
    "        node=Node(data,self.head)\n",
    "        if self.head is None:\n",
    "            self.head=node\n",
    "        self.head.prev=node\n",
    "        self.head=node\n",
    "    def print(self):\n",
    "        if self.head is None:\n",
    "            print('Empty List')\n",
    "        else:\n",
    "            ptr=self.head\n",
    "            while(ptr):\n",
    "                print(ptr.data,\"->\",end=\" \")\n",
    "                ptr=ptr.next\n",
    "    def print_prev(self):\n",
    "        if self.head is None:\n",
    "            print('Empty List')\n",
    "            return \n",
    "        ptr=self.head\n",
    "        while(ptr.next):\n",
    "            ptr=ptr.next\n",
    "        while(ptr):\n",
    "            print(ptr.data,\"->\",end=\" \")\n",
    "            ptr=ptr.prev"
   ]
  },
  {
   "cell_type": "code",
   "execution_count": 20,
   "metadata": {},
   "outputs": [
    {
     "name": "stdout",
     "output_type": "stream",
     "text": [
      "4 -> 3 -> 2 -> 1 -> None\n",
      "1 -> 2 -> 3 -> 4 -> None\n"
     ]
    }
   ],
   "source": [
    "list_1=DLL()\n",
    "list_1.insert_at_head(1)\n",
    "list_1.insert_at_head(2)\n",
    "list_1.insert_at_head(3)\n",
    "list_1.insert_at_head(4)\n",
    "print(list_1.print())\n",
    "print(list_1.print_prev())"
   ]
  }
 ],
 "metadata": {
  "kernelspec": {
   "display_name": "Python 3",
   "language": "python",
   "name": "python3"
  },
  "language_info": {
   "codemirror_mode": {
    "name": "ipython",
    "version": 3
   },
   "file_extension": ".py",
   "mimetype": "text/x-python",
   "name": "python",
   "nbconvert_exporter": "python",
   "pygments_lexer": "ipython3",
   "version": "3.8.0"
  }
 },
 "nbformat": 4,
 "nbformat_minor": 4
}
