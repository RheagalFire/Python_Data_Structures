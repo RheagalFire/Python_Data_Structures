{
 "cells": [
  {
   "cell_type": "markdown",
   "metadata": {},
   "source": [
    "### Queue"
   ]
  },
  {
   "cell_type": "markdown",
   "metadata": {},
   "source": [
    "- Linear Data Structures\n",
    "- Queue allows us Loose Coupling\n",
    "- Solves Producer Consumer order\n",
    "- First In First Out (FIFO)"
   ]
  },
  {
   "cell_type": "code",
   "execution_count": 13,
   "metadata": {},
   "outputs": [],
   "source": [
    "queue=[]\n",
    "queue.insert(0,131)\n",
    "queue.insert(0,132)\n",
    "queue.insert(0,134)"
   ]
  },
  {
   "cell_type": "code",
   "execution_count": 14,
   "metadata": {},
   "outputs": [
    {
     "data": {
      "text/plain": [
       "[134, 132, 131]"
      ]
     },
     "execution_count": 14,
     "metadata": {},
     "output_type": "execute_result"
    }
   ],
   "source": [
    "queue"
   ]
  },
  {
   "cell_type": "code",
   "execution_count": 15,
   "metadata": {},
   "outputs": [
    {
     "name": "stdout",
     "output_type": "stream",
     "text": [
      "Popping  131 in the 1 operation\n",
      "Popping  132 in the 2 operation\n",
      "Popping  134 in the 3 operation\n"
     ]
    }
   ],
   "source": [
    "for _ in range(len(queue)):\n",
    "    print(\"Popping \",queue.pop(),\"in the {0} operation\".format(_+1))"
   ]
  },
  {
   "cell_type": "markdown",
   "metadata": {},
   "source": [
    "### Custom Implementation of Queue Using deque()"
   ]
  },
  {
   "cell_type": "code",
   "execution_count": 18,
   "metadata": {},
   "outputs": [],
   "source": [
    "from collections import deque\n",
    "q=deque()\n",
    "q.appendleft(5)\n",
    "q.appendleft(4)\n",
    "q.appendleft(3)\n",
    "q.appendleft(2)"
   ]
  },
  {
   "cell_type": "code",
   "execution_count": 19,
   "metadata": {},
   "outputs": [
    {
     "name": "stdout",
     "output_type": "stream",
     "text": [
      "Popping  5 in the 1 operation\n",
      "Popping  4 in the 2 operation\n",
      "Popping  3 in the 3 operation\n",
      "Popping  2 in the 4 operation\n"
     ]
    }
   ],
   "source": [
    "for _ in range(len(q)):\n",
    "    print(\"Popping \",q.pop(),\"in the {0} operation\".format(_+1))"
   ]
  },
  {
   "cell_type": "code",
   "execution_count": 23,
   "metadata": {},
   "outputs": [],
   "source": [
    "class Queue:\n",
    "    def __init__(self):\n",
    "        self.buffer=deque()\n",
    "    def enqueue(self,data):\n",
    "        return self.buffer.appendleft(data)\n",
    "    def dequeue(self):\n",
    "        return self.buffer.pop()\n",
    "    def is_empty(self):\n",
    "        return len(self.buffer)==0\n",
    "    def size(self):\n",
    "        return len(self.buffer)   "
   ]
  },
  {
   "cell_type": "code",
   "execution_count": 24,
   "metadata": {},
   "outputs": [
    {
     "name": "stdout",
     "output_type": "stream",
     "text": [
      "dequeing : Request 1\n",
      "dequeing : Request 2\n",
      "dequeing : Request 3\n",
      "dequeing : Request 4\n"
     ]
    }
   ],
   "source": [
    "Post=Queue()\n",
    "Post.enqueue('Request 1')\n",
    "Post.enqueue('Request 2')\n",
    "Post.enqueue('Request 3')\n",
    "Post.enqueue('Request 4')\n",
    "for _ in range(Post.size()):\n",
    "    print(\"dequeing :\",Post.dequeue())"
   ]
  },
  {
   "cell_type": "markdown",
   "metadata": {},
   "source": [
    "###  Queue Implementation using Linked Lists"
   ]
  },
  {
   "cell_type": "code",
   "execution_count": 31,
   "metadata": {},
   "outputs": [],
   "source": [
    "class Node:\n",
    "    def __init__(self,data=None,next=None):\n",
    "        self.data=data\n",
    "        self.next=next\n",
    "class Queue_LL:\n",
    "    def __init__(self):\n",
    "        self.head=None\n",
    "        self.tail=None\n",
    "    def enqueue(self,data):\n",
    "        node=Node(data)\n",
    "        if self.head is None:\n",
    "            self.head=node\n",
    "            self.tail=self.head\n",
    "            return\n",
    "        self.tail.next=node\n",
    "        self.tail=node\n",
    "    def dequeue(self):\n",
    "        if self.head is None:\n",
    "            raise Exception('List is empty')\n",
    "            return\n",
    "        show=self.head\n",
    "        self.head=self.head.next\n",
    "        return show.data"
   ]
  },
  {
   "cell_type": "code",
   "execution_count": 32,
   "metadata": {},
   "outputs": [
    {
     "name": "stdout",
     "output_type": "stream",
     "text": [
      "dequeing : Request 1\n",
      "dequeing : Request 2\n",
      "dequeing : Request 3\n",
      "dequeing : Request 4\n"
     ]
    }
   ],
   "source": [
    "Post=Queue_LL()\n",
    "Post.enqueue('Request 1')\n",
    "Post.enqueue('Request 2')\n",
    "Post.enqueue('Request 3')\n",
    "Post.enqueue('Request 4')\n",
    "for _ in range(4):\n",
    "    print(\"dequeing :\",Post.dequeue())"
   ]
  },
  {
   "cell_type": "code",
   "execution_count": null,
   "metadata": {},
   "outputs": [],
   "source": []
  }
 ],
 "metadata": {
  "kernelspec": {
   "display_name": "Python 3",
   "language": "python",
   "name": "python3"
  },
  "language_info": {
   "codemirror_mode": {
    "name": "ipython",
    "version": 3
   },
   "file_extension": ".py",
   "mimetype": "text/x-python",
   "name": "python",
   "nbconvert_exporter": "python",
   "pygments_lexer": "ipython3",
   "version": "3.8.0"
  }
 },
 "nbformat": 4,
 "nbformat_minor": 4
}
