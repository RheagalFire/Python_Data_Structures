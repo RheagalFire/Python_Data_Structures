{
 "cells": [
  {
   "cell_type": "markdown",
   "metadata": {},
   "source": [
    "## General Trees"
   ]
  },
  {
   "cell_type": "markdown",
   "metadata": {},
   "source": [
    "Product Hierarchy **Non -Linear** Data Structures"
   ]
  },
  {
   "cell_type": "markdown",
   "metadata": {},
   "source": [
    "- Parent Nodes\n",
    "- Child Nodes\n",
    "- Leaf Nodes"
   ]
  },
  {
   "cell_type": "code",
   "execution_count": 1,
   "metadata": {},
   "outputs": [],
   "source": [
    "class TreeNode:\n",
    "    def __init__(self,data):\n",
    "        self.data=data\n",
    "        self.children=[]\n",
    "        self.parent=None\n",
    "    def add_child(self,child):\n",
    "        child.parent=self\n",
    "        self.children.append(child)\n",
    "    def get_results(self):\n",
    "        print(self.data)\n",
    "        print('child of {0} is {1} '.format(self.data,self.children))\n",
    "        print('Parent of {0} is {1} '.format(self.data,self.parent))\n",
    "    def get_level(self):\n",
    "        level=0\n",
    "        p=self.parent\n",
    "        while p:\n",
    "            level+=1\n",
    "            p=p.parent\n",
    "        return level\n",
    "    def print_tree(self):\n",
    "        spaces=\"->\"*self.get_level()\n",
    "        print(spaces+self.data)\n",
    "        if (self.children):\n",
    "            for child in self.children:\n",
    "                child.print_tree()"
   ]
  },
  {
   "cell_type": "code",
   "execution_count": 2,
   "metadata": {},
   "outputs": [],
   "source": [
    "root=TreeNode('Electronics')\n",
    "laptop=TreeNode('Laptop')\n",
    "Acer=TreeNode('Acer')\n",
    "Hp=TreeNode('HP')\n",
    "Tv=TreeNode('TV')\n",
    "Samsung=TreeNode('Samsung')\n",
    "Sony=TreeNode('Sony')\n",
    "Mobile=TreeNode('Mobile')\n",
    "Redmi=TreeNode('Redmi')\n",
    "Oppo=TreeNode('Oppo')\n",
    "root.add_child(laptop)\n",
    "root.add_child(Tv)\n",
    "root.add_child(Mobile)\n",
    "laptop.add_child(Acer)\n",
    "laptop.add_child(Hp)\n",
    "Tv.add_child(Samsung)\n",
    "Tv.add_child(Sony)\n",
    "Mobile.add_child(Redmi)\n",
    "Mobile.add_child(Oppo)"
   ]
  },
  {
   "cell_type": "code",
   "execution_count": 3,
   "metadata": {},
   "outputs": [
    {
     "name": "stdout",
     "output_type": "stream",
     "text": [
      "Electronics\n",
      "->Laptop\n",
      "->->Acer\n",
      "->->HP\n",
      "->TV\n",
      "->->Samsung\n",
      "->->Sony\n",
      "->Mobile\n",
      "->->Redmi\n",
      "->->Oppo\n"
     ]
    }
   ],
   "source": [
    "root.print_tree()"
   ]
  },
  {
   "cell_type": "markdown",
   "metadata": {},
   "source": [
    "## Binary Search Tree"
   ]
  },
  {
   "cell_type": "markdown",
   "metadata": {},
   "source": [
    "- Every node has at most 2 child nodes\n",
    "- Binary search tree is a special case of Binary Tree for value of node(left<Right)"
   ]
  },
  {
   "cell_type": "markdown",
   "metadata": {},
   "source": [
    "Search space is reduced by half in each iteration.<br>\n",
    "If suppose an operation takes iteration=8 for Brute Force<br>\n",
    "then in BST implementation it will be completed in 8->4->2->1 operation<br> \n",
    "which is nothing but log<sub>2</sub>(8)<br>\n",
    "Time Complexity = O(log<sub>2</sub>n)"
   ]
  },
  {
   "cell_type": "markdown",
   "metadata": {},
   "source": [
    "### Depth First Search Traversal Technique"
   ]
  },
  {
   "cell_type": "markdown",
   "metadata": {},
   "source": [
    "Inorder Traversal = visit left subtree root and then Right Subtree <br>\n",
    "Pre order Traversal = Root node and then left subtree Right Subtree <br>\n",
    "Post order Traversal =  Left Right and then Root node"
   ]
  },
  {
   "cell_type": "code",
   "execution_count": 9,
   "metadata": {},
   "outputs": [],
   "source": [
    "class BinarySearchTreeNode:\n",
    "    def __init__(self,data):\n",
    "        self.data=data\n",
    "        self.left=None\n",
    "        self.right=None\n",
    "    def add_child(self, data):\n",
    "        if (data == self.data):\n",
    "            return # node already exist\n",
    "\n",
    "        if (data < self.data):\n",
    "            if (self.left):\n",
    "                self.left.add_child(data)\n",
    "            else:\n",
    "                self.left = BinarySearchTreeNode(data)\n",
    "        else:\n",
    "            if (self.right):\n",
    "                self.right.add_child(data)\n",
    "            else:\n",
    "                self.right = BinarySearchTreeNode(data)\n",
    "    def in_order_traversal(self):\n",
    "        elements=[]\n",
    "        if(self.left):\n",
    "            elements+=self.left.in_order_traversal()\n",
    "            \n",
    "        elements.append(self.data)\n",
    "        \n",
    "        if(self.right):\n",
    "            elements+=self.right.in_order_traversal()\n",
    "            \n",
    "        return elements\n",
    "    \n",
    "    def pre_order_traversal(self):\n",
    "        elements=[]\n",
    "        elements.append(self.data)\n",
    "        if(self.left):\n",
    "            elements+=self.left.pre_order_traversal()\n",
    "        if(self.right):\n",
    "            elements+=self.right.pre_order_traversal()\n",
    "        return elements \n",
    "    def find_max(self):\n",
    "        if self.right is None:\n",
    "            return self.data\n",
    "        else:\n",
    "            p=self.right\n",
    "            while(p):\n",
    "                max_=p.data\n",
    "                p=p.right\n",
    "            return max_\n",
    "    def find_min(self):\n",
    "        if self.left is None:\n",
    "            return self.data\n",
    "        else:\n",
    "            p=self.left\n",
    "            while(p):\n",
    "                min_=p.data\n",
    "                p=p.left\n",
    "            return min_\n",
    "    def search(self,val):\n",
    "        if(self.data==val):\n",
    "            return True\n",
    "        if(val<self.data):\n",
    "            if(self.left):\n",
    "                return self.left.search(val)\n",
    "            else:\n",
    "                return False\n",
    "        if(val>self.data):\n",
    "            if(self.right):\n",
    "                return self.right.search(val)\n",
    "            else:\n",
    "                return False\n",
    "    def delete(self,val):\n",
    "        if(val<self.data):\n",
    "            if(self.left):\n",
    "                   self.left= self.left.delete(val)\n",
    "        elif(val>self.data):\n",
    "            if(self.right):\n",
    "                    self.right=self.right.delete(val)\n",
    "        else:\n",
    "            if self.left is None and self.right is None:\n",
    "                return None\n",
    "            elif self.left is None:\n",
    "                return self.right\n",
    "            elif self.right is None:\n",
    "                return self.left\n",
    "            min_value=self.right.find_min()\n",
    "            self.data=min_value\n",
    "            self.right=self.right.delete(min_value)\n",
    "        return self"
   ]
  },
  {
   "cell_type": "code",
   "execution_count": 10,
   "metadata": {},
   "outputs": [],
   "source": [
    "def build_tree(elements):\n",
    "    print(\"Building tree with these elements:\",elements)\n",
    "    root = BinarySearchTreeNode(elements[0])\n",
    "\n",
    "    for i in range(1,len(elements)):\n",
    "        root.add_child(elements[i])\n",
    "\n",
    "    return root"
   ]
  },
  {
   "cell_type": "code",
   "execution_count": 13,
   "metadata": {},
   "outputs": [
    {
     "name": "stdout",
     "output_type": "stream",
     "text": [
      "Building tree with these elements: [15, 12, 7, 14, 27, 20, 23, 88]\n",
      "[7, 12, 14, 15, 20, 23, 27, 88]\n",
      "88\n"
     ]
    },
    {
     "data": {
      "text/plain": [
       "[7, 12, 14, 20, 23, 27, 88]"
      ]
     },
     "execution_count": 13,
     "metadata": {},
     "output_type": "execute_result"
    }
   ],
   "source": [
    "elements=[15,12,7,14,27,20,23,88]\n",
    "elem=build_tree(elements)\n",
    "print(elem.in_order_traversal())\n",
    "print(elem.find_max())\n",
    "elem.search(25)\n",
    "elem.delete(15)\n",
    "elem.in_order_traversal()"
   ]
  }
 ],
 "metadata": {
  "kernelspec": {
   "display_name": "Python 3",
   "language": "python",
   "name": "python3"
  },
  "language_info": {
   "codemirror_mode": {
    "name": "ipython",
    "version": 3
   },
   "file_extension": ".py",
   "mimetype": "text/x-python",
   "name": "python",
   "nbconvert_exporter": "python",
   "pygments_lexer": "ipython3",
   "version": "3.8.0"
  }
 },
 "nbformat": 4,
 "nbformat_minor": 4
}
