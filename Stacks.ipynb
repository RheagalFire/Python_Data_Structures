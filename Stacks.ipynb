{
 "cells": [
  {
   "cell_type": "markdown",
   "metadata": {},
   "source": [
    "## Stacks"
   ]
  },
  {
   "cell_type": "markdown",
   "metadata": {},
   "source": [
    "- Last in First Out \n",
    "- LIFO\n",
    "- Operations - Push Pop\n",
    "- Push / Pop = O(1)\n",
    "- Search = O(n)"
   ]
  },
  {
   "cell_type": "markdown",
   "metadata": {},
   "source": [
    "### Implementation of Stacks Using Lists"
   ]
  },
  {
   "cell_type": "code",
   "execution_count": 12,
   "metadata": {},
   "outputs": [],
   "source": [
    "s=[]\n",
    "s.append('a')\n",
    "s.append('b')\n",
    "s.append('c')\n",
    "s.append('d')"
   ]
  },
  {
   "cell_type": "code",
   "execution_count": 13,
   "metadata": {},
   "outputs": [],
   "source": [
    "from collections import deque\n",
    "stack=deque()"
   ]
  },
  {
   "cell_type": "code",
   "execution_count": 17,
   "metadata": {},
   "outputs": [],
   "source": [
    "stack.append('Link1')\n",
    "stack.append('Link2')\n",
    "stack.append('Link3')\n",
    "stack.append('Link4')"
   ]
  },
  {
   "cell_type": "code",
   "execution_count": 18,
   "metadata": {},
   "outputs": [
    {
     "data": {
      "text/plain": [
       "deque(['Link1', 'Link1', 'Link2', 'Link3', 'Link4'])"
      ]
     },
     "execution_count": 18,
     "metadata": {},
     "output_type": "execute_result"
    }
   ],
   "source": [
    "stack"
   ]
  },
  {
   "cell_type": "code",
   "execution_count": 19,
   "metadata": {},
   "outputs": [
    {
     "data": {
      "text/plain": [
       "'Link4'"
      ]
     },
     "execution_count": 19,
     "metadata": {},
     "output_type": "execute_result"
    }
   ],
   "source": [
    "stack.pop()"
   ]
  },
  {
   "cell_type": "code",
   "execution_count": 20,
   "metadata": {},
   "outputs": [
    {
     "data": {
      "text/plain": [
       "deque(['Link1', 'Link1', 'Link2', 'Link3'])"
      ]
     },
     "execution_count": 20,
     "metadata": {},
     "output_type": "execute_result"
    }
   ],
   "source": [
    "stack"
   ]
  },
  {
   "cell_type": "markdown",
   "metadata": {},
   "source": [
    "Stacks are generally **not implemented** using lists because once they run out of memory allocation,\\\n",
    "its expensive to reallocate memory and copy the remainig elements to the new array"
   ]
  },
  {
   "cell_type": "markdown",
   "metadata": {},
   "source": [
    "### Custom Implementation of Stack Using deque()"
   ]
  },
  {
   "cell_type": "markdown",
   "metadata": {},
   "source": [
    "deque() is an inbuilt Library method which is made using Doubly Linked Lists"
   ]
  },
  {
   "cell_type": "code",
   "execution_count": 21,
   "metadata": {},
   "outputs": [],
   "source": [
    "class Stack:\n",
    "    def __init__(self):\n",
    "        self.container=deque()\n",
    "    def push(self,val):\n",
    "        return self.container.append(val)\n",
    "    def pop(self):\n",
    "        return self.container.pop()\n",
    "    def peek(self):\n",
    "        return self.container[-1]\n",
    "    def top(self):\n",
    "        return self.container[0]\n",
    "    def is_empty(self):\n",
    "        return len(self.container)==0\n",
    "    def size(self):\n",
    "        return len(self.container)"
   ]
  },
  {
   "cell_type": "code",
   "execution_count": 22,
   "metadata": {},
   "outputs": [
    {
     "name": "stdout",
     "output_type": "stream",
     "text": [
      "Executing and Terminating :  Programe2\n",
      "Size of stack after popping: 2\n",
      "Executing and Terminating :  Programe1\n",
      "Size of stack after popping: 1\n",
      "Executing and Terminating :  main\n",
      "Size of stack after popping: 0\n"
     ]
    }
   ],
   "source": [
    "stack_of_execution=Stack()\n",
    "stack_of_execution.push('main')\n",
    "stack_of_execution.push('Programe1')\n",
    "stack_of_execution.push('Programe2')\n",
    "for _ in range(stack_of_execution.size()):\n",
    "    print(\"Executing and Terminating : \",stack_of_execution.pop())\n",
    "    print('Size of stack after popping:',stack_of_execution.size())"
   ]
  },
  {
   "cell_type": "markdown",
   "metadata": {},
   "source": [
    "### Scratch Implementation using Linked Lists"
   ]
  },
  {
   "cell_type": "code",
   "execution_count": 23,
   "metadata": {},
   "outputs": [],
   "source": [
    "class Node:\n",
    "    def __init__(self,data=None,next=None):\n",
    "        self.data=data\n",
    "        self.next=next\n",
    "class stacks:\n",
    "    def __init__(self):\n",
    "        self.head=None\n",
    "    def push(self,data):\n",
    "        node=Node(data)\n",
    "        if self.head is None:\n",
    "            self.head=node\n",
    "            return\n",
    "        node.next=self.head\n",
    "        self.head=node\n",
    "    def pop(self):\n",
    "        if self.head is None:\n",
    "            raise exception('List is empty')\n",
    "            return\n",
    "        show=self.head\n",
    "        self.head=self.head.next\n",
    "        return show.data\n",
    "    def print"
   ]
  },
  {
   "cell_type": "code",
   "execution_count": 26,
   "metadata": {},
   "outputs": [],
   "source": [
    "Stack_2=stacks()\n",
    "Stack_2.push('History')\n",
    "Stack_2.push('Geography')"
   ]
  },
  {
   "cell_type": "code",
   "execution_count": 27,
   "metadata": {},
   "outputs": [
    {
     "name": "stdout",
     "output_type": "stream",
     "text": [
      "Geography\n",
      "History\n"
     ]
    }
   ],
   "source": [
    "print(Stack_2.pop())\n",
    "print(Stack_2.pop())"
   ]
  }
 ],
 "metadata": {
  "kernelspec": {
   "display_name": "Python 3",
   "language": "python",
   "name": "python3"
  },
  "language_info": {
   "codemirror_mode": {
    "name": "ipython",
    "version": 3
   },
   "file_extension": ".py",
   "mimetype": "text/x-python",
   "name": "python",
   "nbconvert_exporter": "python",
   "pygments_lexer": "ipython3",
   "version": "3.8.0"
  }
 },
 "nbformat": 4,
 "nbformat_minor": 4
}
