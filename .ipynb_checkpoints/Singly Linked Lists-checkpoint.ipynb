{
 "cells": [
  {
   "cell_type": "markdown",
   "metadata": {},
   "source": [
    "### Linked Lists "
   ]
  },
  {
   "cell_type": "markdown",
   "metadata": {},
   "source": [
    "- They are linear Data Structures\n",
    "- They are memory efficient but not time efficient\n",
    "- Insertion happens at o(1) for adding to begning\n",
    "- Insertion at back happens at o(n)"
   ]
  },
  {
   "cell_type": "markdown",
   "metadata": {},
   "source": [
    "|             | Array | Linked Lists |     \n",
    "| ----------- | ----------- | ----------- |\n",
    "| Indexing | O(1) | O(n) |\n",
    "| Insert/Delete at start | O(n) | O(1) |\n",
    "| Insert/Delete at end   | O(1)(amortized) | O(n) |\n",
    "| Insert in middle       | O(n)            | O(n)(worst-case) |"
   ]
  },
  {
   "cell_type": "code",
   "execution_count": 72,
   "metadata": {},
   "outputs": [],
   "source": [
    "class Node:\n",
    "    def __init__(self,data=None,next=None):\n",
    "        self.data=data\n",
    "        self.next=next\n",
    "class Linked_list:\n",
    "    def __init__(self):\n",
    "        self.head=None\n",
    "    def insert_at_head(self,data):\n",
    "        node = Node(data,self.head)\n",
    "        self.head=node\n",
    "    def print(self):\n",
    "        if self.head is None:\n",
    "            print('Empty List')\n",
    "        else:\n",
    "            ptr=self.head\n",
    "            while(ptr):\n",
    "                print(ptr.data,\"->\",end=\" \")\n",
    "                ptr=ptr.next\n",
    "    def insert_at_end(self,data):\n",
    "        if self.head is None:\n",
    "            self.head=Node(data,None)\n",
    "            return \n",
    "        node=Node(data)\n",
    "        itr=self.head\n",
    "        while(itr.next):\n",
    "            itr=itr.next\n",
    "        itr.next=node\n",
    "    def insert_values(self,data_list):\n",
    "        self.head=None\n",
    "        for data in data_list:\n",
    "            self.insert_at_end(data)\n",
    "    def get_length(self):\n",
    "        count=0\n",
    "        ctr=self.head\n",
    "        while(ctr):\n",
    "            count+=1\n",
    "            ctr=ctr.next\n",
    "        return count\n",
    "    def remove_at(self,index):\n",
    "        if (index <0 or index>=self.get_length()):\n",
    "            raise Exception(\"Not a valid Index\")\n",
    "        if index==0:\n",
    "            self.head=self.head.next\n",
    "            return\n",
    "        count=0\n",
    "        itr=self.head\n",
    "        while(itr):\n",
    "            if(count==index-1):\n",
    "                itr.next=itr.next.next\n",
    "                break\n",
    "            itr=itr.next\n",
    "            count+=1\n",
    "    def insert_at(self,index,data):\n",
    "        if(index==0):\n",
    "            node=Node(data)\n",
    "            self.head=node\n",
    "            return\n",
    "        if(index==self.get_length()-1):\n",
    "            self.insert_at_end(data)\n",
    "            return \n",
    "        count=0\n",
    "        node=Node(data)\n",
    "        itr=self.head\n",
    "        while(itr):\n",
    "            if(count==index-1):\n",
    "                node.next=itr.next\n",
    "                itr.next=node\n",
    "                break\n",
    "            itr=itr.next\n",
    "            count+=1"
   ]
  },
  {
   "cell_type": "code",
   "execution_count": 73,
   "metadata": {},
   "outputs": [],
   "source": [
    "list_1=Linked_list()"
   ]
  },
  {
   "cell_type": "code",
   "execution_count": 74,
   "metadata": {},
   "outputs": [
    {
     "data": {
      "text/plain": [
       "6"
      ]
     },
     "execution_count": 74,
     "metadata": {},
     "output_type": "execute_result"
    }
   ],
   "source": [
    "list_1.insert_at_head(1)\n",
    "list_1.insert_at_head(2)\n",
    "list_1.insert_at_head(3)\n",
    "list_1.insert_at_head(4)\n",
    "list_1.insert_at_end(5)\n",
    "list_1.insert_at(2,6)\n",
    "list_1.get_length()"
   ]
  },
  {
   "cell_type": "code",
   "execution_count": 75,
   "metadata": {},
   "outputs": [
    {
     "name": "stdout",
     "output_type": "stream",
     "text": [
      "4 -> 3 -> 6 -> 2 -> 1 -> 5 -> "
     ]
    }
   ],
   "source": [
    "list_1.print()"
   ]
  },
  {
   "cell_type": "code",
   "execution_count": 57,
   "metadata": {},
   "outputs": [
    {
     "name": "stdout",
     "output_type": "stream",
     "text": [
      "Apple -> Banana -> Cherry -> None\n",
      "Apple -> Banana -> None\n"
     ]
    }
   ],
   "source": [
    "list_2=Linked_list()\n",
    "list_2.insert_values(['Apple','Banana','Cherry'])\n",
    "print(list_2.print())\n",
    "list_2.remove_at(2)\n",
    "print(list_2.print())"
   ]
  },
  {
   "cell_type": "code",
   "execution_count": null,
   "metadata": {},
   "outputs": [],
   "source": []
  }
 ],
 "metadata": {
  "kernelspec": {
   "display_name": "Python 3",
   "language": "python",
   "name": "python3"
  },
  "language_info": {
   "codemirror_mode": {
    "name": "ipython",
    "version": 3
   },
   "file_extension": ".py",
   "mimetype": "text/x-python",
   "name": "python",
   "nbconvert_exporter": "python",
   "pygments_lexer": "ipython3",
   "version": "3.8.0"
  }
 },
 "nbformat": 4,
 "nbformat_minor": 4
}
